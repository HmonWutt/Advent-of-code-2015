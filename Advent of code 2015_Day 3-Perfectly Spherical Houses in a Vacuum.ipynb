{
 "cells": [
  {
   "cell_type": "code",
   "execution_count": 3,
   "metadata": {},
   "outputs": [
    {
     "name": "stdout",
     "output_type": "stream",
     "text": [
      "env: AOC_SESSION=53616c7465645f5f49059f4a5c4159c843c84bbe8c7955cbf891ebc16bea3d3d905d07da111068b3092e19a3aa92bb829951cbc4263fdb4cecd12e120e064a3f\n"
     ]
    }
   ],
   "source": [
    "%env AOC_SESSION =53616c7465645f5f49059f4a5c4159c843c84bbe8c7955cbf891ebc16bea3d3d905d07da111068b3092e19a3aa92bb829951cbc4263fdb4cecd12e120e064a3f"
   ]
  },
  {
   "cell_type": "code",
   "execution_count": 113,
   "metadata": {},
   "outputs": [
    {
     "name": "stdout",
     "output_type": "stream",
     "text": [
      "Part one answer : 2565\n"
     ]
    }
   ],
   "source": [
    "#####part one ######\n",
    "from collections import Counter\n",
    "from aocd import get_data\n",
    "data = get_data(day=3, year=2015)\n",
    "\n",
    "visited_house_list =[]\n",
    "x = 0\n",
    "y = 0\n",
    "\n",
    "for ind,i in enumerate(data):\n",
    "    point = data[ind]\n",
    "    if point == '^':\n",
    "        y+=1\n",
    "    elif point == 'v':\n",
    "        y -=1\n",
    "    elif point == '>':\n",
    "        x+=1\n",
    "    else:\n",
    "        x-=1\n",
    "    #print(x,y)\n",
    "    house = (x,y)\n",
    "    visited_house_list.append(house)\n",
    "print(f'Part one answer : {len(set(visited_house_list))}')\n",
    "       "
   ]
  },
  {
   "cell_type": "code",
   "execution_count": 115,
   "metadata": {},
   "outputs": [
    {
     "name": "stdout",
     "output_type": "stream",
     "text": [
      "Part two answer: 2639\n"
     ]
    }
   ],
   "source": [
    "#####part two#####\n",
    "\n",
    "santa_lst = []\n",
    "robo_santa_lst = []\n",
    "\n",
    "for ind,i in enumerate(data):\n",
    "    if ind%2 == 0:\n",
    "        santa_lst.append(i)\n",
    "    else:\n",
    "        robo_santa_lst.append(i)\n",
    "\n",
    "\n",
    "def move(lst):\n",
    "    visited_house = []\n",
    "    x = 0\n",
    "    y = 0\n",
    "    for i in lst:\n",
    "        if i == '^':\n",
    "            y+=1\n",
    "        elif i == 'v':\n",
    "            y -=1\n",
    "        elif i == '>':\n",
    "            x+=1\n",
    "        else:\n",
    "            x-=1\n",
    "        house = (x,y)\n",
    "        visited_house.append(house)\n",
    "    return visited_house\n",
    "\n",
    "robo_santa_visited_house = move(robo_santa_lst)\n",
    "santa_visited_house = move(santa_lst)\n",
    "total = set(robo_santa_visited_house+santa_visited_house)\n",
    "\n",
    "print(f'Part two answer: {len(total)}')\n"
   ]
  }
 ],
 "metadata": {
  "kernelspec": {
   "display_name": "Python 3.9.6 64-bit",
   "language": "python",
   "name": "python3"
  },
  "language_info": {
   "codemirror_mode": {
    "name": "ipython",
    "version": 3
   },
   "file_extension": ".py",
   "mimetype": "text/x-python",
   "name": "python",
   "nbconvert_exporter": "python",
   "pygments_lexer": "ipython3",
   "version": "3.9.6"
  },
  "orig_nbformat": 4,
  "vscode": {
   "interpreter": {
    "hash": "aee8b7b246df8f9039afb4144a1f6fd8d2ca17a180786b69acc140d282b71a49"
   }
  }
 },
 "nbformat": 4,
 "nbformat_minor": 2
}
